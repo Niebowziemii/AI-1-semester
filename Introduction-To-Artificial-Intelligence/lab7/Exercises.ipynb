{
 "cells": [
  {
   "cell_type": "code",
   "execution_count": 1,
   "metadata": {},
   "outputs": [],
   "source": [
    "import numpy as np\n",
    "import matplotlib.pyplot as plt\n",
    "import math\n",
    "import common as cm"
   ]
  },
  {
   "cell_type": "markdown",
   "metadata": {},
   "source": [
    "# A-star algorithm"
   ]
  },
  {
   "cell_type": "markdown",
   "metadata": {},
   "source": [
    "This exercise consists of only one parts. Finish this part to get a mark of 5.0."
   ]
  },
  {
   "cell_type": "markdown",
   "metadata": {},
   "source": [
    "The task of the A-star algorithm is to find the shortest path between two nodes in the graph. This algorithm is often used to find the shortest path on a 2d map. In this case, nodes are different possible positions (fields), and edges from node in the graph lead to adjacent fields."
   ]
  },
  {
   "cell_type": "markdown",
   "metadata": {},
   "source": [
    "There are various possible moves depending on different neighbourhood models and the different cost values for each move."
   ]
  },
  {
   "cell_type": "code",
   "execution_count": 2,
   "metadata": {},
   "outputs": [],
   "source": [
    "possible_moves = [(i-1,j-1) for i in range(3) for j in range(3) if i !=1 or j !=1]\n",
    "#possible_moves = [(0,1),(1,0),(0,-1),(-1,0)]\n",
    "#possible_moves = [(1,2),(2,1),(1,-2),(-2,1),(-1,2),(2,-1),(-1,-2),(-2,-1)]"
   ]
  },
  {
   "cell_type": "code",
   "execution_count": 3,
   "metadata": {},
   "outputs": [],
   "source": [
    "possible_moves_costs = [math.sqrt(abs(i)+abs(j)) for i,j in possible_moves]\n",
    "#possible_moves_costs = [0.5+(abs(i)+abs(j))/2 for i,j in possible_moves]"
   ]
  },
  {
   "cell_type": "markdown",
   "metadata": {},
   "source": [
    "In this task, we will use the node class, which will store references to the node from which we came (parent) positions, and the g (actual cost from the beginning of the path to this node) and f (estimated path length passing through this node)."
   ]
  },
  {
   "cell_type": "markdown",
   "metadata": {},
   "source": [
    "1.1) Complete the function estimatePathLenght calculating the value of f, based on the actual distance of the node from the source g and the Euclidean distance to the target h."
   ]
  },
  {
   "cell_type": "code",
   "execution_count": 4,
   "metadata": {},
   "outputs": [],
   "source": [
    "class Node():\n",
    "    def __init__(self, parent, position):\n",
    "        self.parent = parent\n",
    "        self.position = position       \n",
    "        self.g = 0\n",
    "        self.f = 0\n",
    "        self.step = 0 #It says in which step node was created.\n",
    "        \n",
    "    def __eq__(self, other):\n",
    "        return self.position == other.position\n",
    "    \n",
    "    def setG(self, cost):\n",
    "        self.g = self.parent.g + cost        \n",
    "        \n",
    "    def GetPath(self):\n",
    "        if self.parent is None:\n",
    "            return [self.position]\n",
    "        else:\n",
    "            return self.parent.GetPath() + [self.position]\n",
    "        \n",
    "    def estimatePathLenght(self, target):      \n",
    "        return self.g + sqrt((self.position[0]-target.position[0])**2+(self.position[1]-target.position[1])**2)\n"
   ]
  },
  {
   "cell_type": "markdown",
   "metadata": {},
   "source": [
    "Then there is a function that checks whether a given position is correct, not out of range, and whether it is an obstacle."
   ]
  },
  {
   "cell_type": "code",
   "execution_count": 5,
   "metadata": {},
   "outputs": [],
   "source": [
    "def validPosition(position, terrain):\n",
    "    if position[0]<0 or position[1]<0 or position[0]>=terrain.shape[0] or position[1]>=terrain.shape[1]:\n",
    "        return False\n",
    "    if  terrain[position] == 1:\n",
    "        return False\n",
    "    return True\n",
    "        "
   ]
  },
  {
   "cell_type": "markdown",
   "metadata": {},
   "source": [
    "1.2) Complete the function calculating the shortest path using the A * algorithm. \n",
    "\n",
    "1) To do this, find all neighbours positions for the considered node, then check that the position is correct. <br>\n",
    "2) If so, create a new node (child/neighbour) which parent is the node being considered.<br>\n",
    "3) Calculate the child's g value using the cost of transition from node to child.<br>\n",
    "4) Check if the child node has already been visited (closed set).<br>\n",
    "5) If not then check if there is a node on the open set (unvisited) with the same position but a smaller g-value (it's closer to the source).<br>\n",
    "6) If not, calculate the estimated distance from source to destination through the child and add this node to the list to check.<br>\n",
    "7) After generating all adjacent nodes, sort the open set list so that the next considered node has the smallest f value.<br>\n",
    "\n",
    "The algorithm returns a node whose position is the same as the target position and which stores the entire path through the parent field."
   ]
  },
  {
   "cell_type": "code",
   "execution_count": 6,
   "metadata": {},
   "outputs": [],
   "source": [
    "def A_star(terrain, position_start, position_target, possible_moves, possible_moves_costs):\n",
    "    closed_set = []\n",
    "    open_set = []\n",
    "    root = Node(None,position_start)\n",
    "    target = Node(None,position_target)\n",
    "    open_set.append(root)\n",
    "    step = 0\n",
    "    while(len(open_set)>0):\n",
    "        node = open_set.pop()\n",
    "        closed_set.append(node)\n",
    "        step+=1\n",
    "        node.step = step\n",
    "        if node == target:\n",
    "            return node,closed_set\n",
    "        #TODO\n",
    "     "
   ]
  },
  {
   "cell_type": "markdown",
   "metadata": {},
   "source": [
    "1.3) Find the shortest path for 2 sample data."
   ]
  },
  {
   "cell_type": "code",
   "execution_count": 7,
   "metadata": {},
   "outputs": [],
   "source": [
    "position_start, position_target, terrain  = cm.getSmallExample()"
   ]
  },
  {
   "cell_type": "markdown",
   "metadata": {},
   "source": [
    "Show terrain<br>\n",
    "1 means wall, and 0 empty fields."
   ]
  },
  {
   "cell_type": "code",
   "execution_count": 8,
   "metadata": {},
   "outputs": [
    {
     "data": {
      "text/plain": [
       "<matplotlib.image.AxesImage at 0x212a6d7bb48>"
      ]
     },
     "execution_count": 8,
     "metadata": {},
     "output_type": "execute_result"
    },
    {
     "data": {
      "image/png": "[encoded data removed]",
      "text/plain": [
       "<Figure size 432x288 with 1 Axes>"
      ]
     },
     "metadata": {
      "needs_background": "light"
     },
     "output_type": "display_data"
    }
   ],
   "source": [
    "plt.imshow(terrain)"
   ]
  },
  {
   "cell_type": "markdown",
   "metadata": {},
   "source": [
    "Run A star algorithm"
   ]
  },
  {
   "cell_type": "code",
   "execution_count": 9,
   "metadata": {},
   "outputs": [
    {
     "ename": "TypeError",
     "evalue": "cannot unpack non-iterable NoneType object",
     "output_type": "error",
     "traceback": [
      "\u001b[1;31m---------------------------------------------------------------------------\u001b[0m",
      "\u001b[1;31mTypeError\u001b[0m                                 Traceback (most recent call last)",
      "\u001b[1;32m<ipython-input-9-b3b554650a96>\u001b[0m in \u001b[0;36m<module>\u001b[1;34m\u001b[0m\n\u001b[1;32m----> 1\u001b[1;33m \u001b[0mpath\u001b[0m\u001b[1;33m,\u001b[0m\u001b[0mclosed_set\u001b[0m \u001b[1;33m=\u001b[0m \u001b[0mA_star\u001b[0m\u001b[1;33m(\u001b[0m\u001b[0mterrain\u001b[0m\u001b[1;33m,\u001b[0m \u001b[0mposition_start\u001b[0m\u001b[1;33m,\u001b[0m \u001b[0mposition_target\u001b[0m\u001b[1;33m,\u001b[0m \u001b[0mpossible_moves\u001b[0m\u001b[1;33m,\u001b[0m \u001b[0mpossible_moves_costs\u001b[0m\u001b[1;33m)\u001b[0m\u001b[1;33m\u001b[0m\u001b[1;33m\u001b[0m\u001b[0m\n\u001b[0m",
      "\u001b[1;31mTypeError\u001b[0m: cannot unpack non-iterable NoneType object"
     ]
    }
   ],
   "source": [
    "path,closed_set = A_star(terrain, position_start, position_target, possible_moves, possible_moves_costs)"
   ]
  },
  {
   "cell_type": "markdown",
   "metadata": {},
   "source": [
    "Plot path"
   ]
  },
  {
   "cell_type": "code",
   "execution_count": null,
   "metadata": {},
   "outputs": [],
   "source": [
    "cm.plotPath(terrain, path)"
   ]
  },
  {
   "cell_type": "markdown",
   "metadata": {},
   "source": [
    "Plot closed_set where colors indicate the number of the last iteration in which the node was checked."
   ]
  },
  {
   "cell_type": "code",
   "execution_count": null,
   "metadata": {},
   "outputs": [],
   "source": [
    "cm.plotSteps(terrain, closed_set)"
   ]
  },
  {
   "cell_type": "code",
   "execution_count": null,
   "metadata": {},
   "outputs": [],
   "source": [
    "position_start, position_target, terrain  = cm.getBigExample()"
   ]
  },
  {
   "cell_type": "code",
   "execution_count": null,
   "metadata": {},
   "outputs": [],
   "source": [
    "path,closed_set = A_star(terrain, position_start, position_target, possible_moves, possible_moves_costs)"
   ]
  },
  {
   "cell_type": "code",
   "execution_count": null,
   "metadata": {},
   "outputs": [],
   "source": [
    "cm.plotPath(terrain, path)"
   ]
  },
  {
   "cell_type": "code",
   "execution_count": null,
   "metadata": {},
   "outputs": [],
   "source": [
    "cm.plotSteps(terrain,closed_set)"
   ]
  }
 ],
 "metadata": {
  "kernelspec": {
   "display_name": "Python 3",
   "language": "python",
   "name": "python3"
  },
  "language_info": {
   "codemirror_mode": {
    "name": "ipython",
    "version": 3
   },
   "file_extension": ".py",
   "mimetype": "text/x-python",
   "name": "python",
   "nbconvert_exporter": "python",
   "pygments_lexer": "ipython3",
   "version": "3.7.5"
  }
 },
 "nbformat": 4,
 "nbformat_minor": 4
}
