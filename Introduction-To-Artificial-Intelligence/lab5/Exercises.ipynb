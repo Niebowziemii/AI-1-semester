{
 "cells": [
  {
   "cell_type": "code",
   "execution_count": 1,
   "metadata": {},
   "outputs": [],
   "source": [
    "import pandas as pd\n",
    "import numpy as np\n",
    "import common as cm"
   ]
  },
  {
   "cell_type": "markdown",
   "metadata": {},
   "source": [
    "This exercise consists of 3 parts. Finish the first part to get a mark of 3.0. The first two parts to get 4.0. Finish all exercies to get 5.0."
   ]
  },
  {
   "cell_type": "markdown",
   "metadata": {},
   "source": [
    "# Part 1: Concordance"
   ]
  },
  {
   "cell_type": "markdown",
   "metadata": {},
   "source": [
    "1.1) Given are the following modes of transport: bus, bike, car, train. Each mode is characterized by 2 cost-type criteria: price and time; and 2 gain-type criteria: comfort and reliability."
   ]
  },
  {
   "cell_type": "markdown",
   "metadata": {},
   "source": [
    "Mode of transport | Time | Comfort | Price | Reliability\n",
    "--- | --- | --- | --- | ---\n",
    " **bus**  | 6 | 3  | 6 | 2\n",
    " **bike** | 8 | 2  | 2 | 8\n",
    " **car**  | 2 | 10 | 9 | 7\n",
    " **train**| 3 | 5  | 5 | 6\n",
    " **by foot**| 10 | 2  | 0 | 5"
   ]
  },
  {
   "cell_type": "code",
   "execution_count": 2,
   "metadata": {},
   "outputs": [
    {
     "data": {
      "text/html": [
       "<div>\n",
       "<style scoped>\n",
       "    .dataframe tbody tr th:only-of-type {\n",
       "        vertical-align: middle;\n",
       "    }\n",
       "\n",
       "    .dataframe tbody tr th {\n",
       "        vertical-align: top;\n",
       "    }\n",
       "\n",
       "    .dataframe thead th {\n",
       "        text-align: right;\n",
       "    }\n",
       "</style>\n",
       "<table border=\"1\" class=\"dataframe\">\n",
       "  <thead>\n",
       "    <tr style=\"text-align: right;\">\n",
       "      <th></th>\n",
       "      <th>mode</th>\n",
       "      <th>time</th>\n",
       "      <th>comfort</th>\n",
       "      <th>price</th>\n",
       "      <th>reliability</th>\n",
       "    </tr>\n",
       "  </thead>\n",
       "  <tbody>\n",
       "    <tr>\n",
       "      <th>0</th>\n",
       "      <td>bus</td>\n",
       "      <td>6</td>\n",
       "      <td>3</td>\n",
       "      <td>6</td>\n",
       "      <td>2</td>\n",
       "    </tr>\n",
       "    <tr>\n",
       "      <th>1</th>\n",
       "      <td>bike</td>\n",
       "      <td>8</td>\n",
       "      <td>2</td>\n",
       "      <td>2</td>\n",
       "      <td>8</td>\n",
       "    </tr>\n",
       "    <tr>\n",
       "      <th>2</th>\n",
       "      <td>car</td>\n",
       "      <td>2</td>\n",
       "      <td>10</td>\n",
       "      <td>9</td>\n",
       "      <td>7</td>\n",
       "    </tr>\n",
       "    <tr>\n",
       "      <th>3</th>\n",
       "      <td>train</td>\n",
       "      <td>3</td>\n",
       "      <td>5</td>\n",
       "      <td>5</td>\n",
       "      <td>6</td>\n",
       "    </tr>\n",
       "    <tr>\n",
       "      <th>4</th>\n",
       "      <td>foot</td>\n",
       "      <td>10</td>\n",
       "      <td>2</td>\n",
       "      <td>0</td>\n",
       "      <td>5</td>\n",
       "    </tr>\n",
       "  </tbody>\n",
       "</table>\n",
       "</div>"
      ],
      "text/plain": [
       "    mode  time  comfort  price  reliability\n",
       "0    bus     6        3      6            2\n",
       "1   bike     8        2      2            8\n",
       "2    car     2       10      9            7\n",
       "3  train     3        5      5            6\n",
       "4   foot    10        2      0            5"
      ]
     },
     "execution_count": 2,
     "metadata": {},
     "output_type": "execute_result"
    }
   ],
   "source": [
    "data = {\n",
    "    'mode': ['bus', 'bike', 'car', 'train', 'foot'],\n",
    "    'time': [6, 8, 2, 3, 10],\n",
    "    'comfort': [3, 2, 10, 5, 2],\n",
    "    'price': [6, 2, 9, 5, 0],\n",
    "    'reliability': [2, 8, 7, 6, 5]\n",
    "}\n",
    "\n",
    "criteria = ['time', 'comfort', 'price', 'reliability']\n",
    "data = pd.DataFrame(data)\n",
    "\n",
    "data"
   ]
  },
  {
   "cell_type": "markdown",
   "metadata": {},
   "source": [
    "1.2)  Below are the parameters, i.e., threholds, criterion-type, and weights, for each criterion,"
   ]
  },
  {
   "cell_type": "code",
   "execution_count": 3,
   "metadata": {},
   "outputs": [
    {
     "data": {
      "text/html": [
       "<div>\n",
       "<style scoped>\n",
       "    .dataframe tbody tr th:only-of-type {\n",
       "        vertical-align: middle;\n",
       "    }\n",
       "\n",
       "    .dataframe tbody tr th {\n",
       "        vertical-align: top;\n",
       "    }\n",
       "\n",
       "    .dataframe thead th {\n",
       "        text-align: right;\n",
       "    }\n",
       "</style>\n",
       "<table border=\"1\" class=\"dataframe\">\n",
       "  <thead>\n",
       "    <tr style=\"text-align: right;\">\n",
       "      <th></th>\n",
       "      <th>weights</th>\n",
       "      <th>q</th>\n",
       "      <th>p</th>\n",
       "      <th>v</th>\n",
       "      <th>type</th>\n",
       "    </tr>\n",
       "  </thead>\n",
       "  <tbody>\n",
       "    <tr>\n",
       "      <th>time</th>\n",
       "      <td>4</td>\n",
       "      <td>1</td>\n",
       "      <td>2</td>\n",
       "      <td>4</td>\n",
       "      <td>cost</td>\n",
       "    </tr>\n",
       "    <tr>\n",
       "      <th>comfort</th>\n",
       "      <td>2</td>\n",
       "      <td>2</td>\n",
       "      <td>3</td>\n",
       "      <td>6</td>\n",
       "      <td>gain</td>\n",
       "    </tr>\n",
       "    <tr>\n",
       "      <th>price</th>\n",
       "      <td>3</td>\n",
       "      <td>1</td>\n",
       "      <td>3</td>\n",
       "      <td>5</td>\n",
       "      <td>cost</td>\n",
       "    </tr>\n",
       "    <tr>\n",
       "      <th>reliability</th>\n",
       "      <td>1</td>\n",
       "      <td>1.5</td>\n",
       "      <td>3</td>\n",
       "      <td>5</td>\n",
       "      <td>gain</td>\n",
       "    </tr>\n",
       "  </tbody>\n",
       "</table>\n",
       "</div>"
      ],
      "text/plain": [
       "            weights    q  p  v  type\n",
       "time              4    1  2  4  cost\n",
       "comfort           2    2  3  6  gain\n",
       "price             3    1  3  5  cost\n",
       "reliability       1  1.5  3  5  gain"
      ]
     },
     "execution_count": 3,
     "metadata": {},
     "output_type": "execute_result"
    }
   ],
   "source": [
    "parameters = {'time': {'weights': 4, 'q': 1.0, 'p': 2, 'v': 4, 'type': 'cost'},\n",
    " 'comfort': {'weights': 2, 'q': 2.0, 'p': 3, 'v': 6, 'type': 'gain'},\n",
    " 'price': {'weights': 3, 'q': 1.0, 'p': 3, 'v': 5, 'type': 'cost'},\n",
    " 'reliability': {'weights': 1, 'q': 1.5, 'p': 3, 'v': 5, 'type': 'gain'}}\n",
    "sum_weights = 10.\n",
    "\n",
    "pd.DataFrame(parameters).T\n"
   ]
  },
  {
   "cell_type": "markdown",
   "metadata": {},
   "source": [
    "1.3) Finish the below function for calculating a marginal concordance for $i$-th criterion (gain type) $c_i(g_i(a),g_i(b))$ based on q and p tresholds. "
   ]
  },
  {
   "cell_type": "code",
   "execution_count": 4,
   "metadata": {},
   "outputs": [],
   "source": [
    "def getConcordanceGain(gA, gB, q, p):\n",
    "    if gA - gB >= -q:\n",
    "        return 1\n",
    "    elif gA - gB <= -p:\n",
    "        return 0\n",
    "    else:\n",
    "        return (p - (gB - gA))/(p-q)\n",
    "    \n",
    "def getConcordanceCost(gA, gB, q, p):\n",
    "    return getConcordanceGain(gB, gA, q, p)"
   ]
  },
  {
   "cell_type": "markdown",
   "metadata": {},
   "source": [
    "1.4)  Calculate  comprehensive concordance  index  for  all  criteria  of  alternatives $a$ and $b$. Remember that comprehensive concordance must be divided by the sum of weights."
   ]
  },
  {
   "cell_type": "code",
   "execution_count": 5,
   "metadata": {},
   "outputs": [],
   "source": [
    "def getComprehensiveConcordance(A, B, criteria, parameters):\n",
    "    a = 0\n",
    "    b = 0\n",
    "    for criterium in criteria:\n",
    "        a += parameters[criterium]['weights'] * (getConcordanceCost(A[criterium], B[criterium], parameters[criterium]['q'], parameters[criterium]['p']) if parameters[criterium]['type'] == \"cost\" else getConcordanceGain(A[criterium], B[criterium], parameters[criterium]['q'], parameters[criterium]['p']))\n",
    "        b += parameters[criterium]['weights']\n",
    "    return a / b"
   ]
  },
  {
   "cell_type": "markdown",
   "metadata": {},
   "source": [
    "1.5) Check comprehensive concordance indexes for C(bus, some transportation):"
   ]
  },
  {
   "cell_type": "code",
   "execution_count": 6,
   "metadata": {
    "scrolled": true
   },
   "outputs": [
    {
     "name": "stdout",
     "output_type": "stream",
     "text": [
      "C(0,0) =  1.0\n",
      "C(0,1) =  0.6\n",
      "C(0,2) =  0.3\n",
      "C(0,3) =  0.5\n",
      "C(0,4) =  0.6\n"
     ]
    }
   ],
   "source": [
    "for alternative_id, alternative_row in data.iterrows():\n",
    "    print(\"C({0},{1}) = \".format(0, alternative_id), getComprehensiveConcordance(data.loc[0], alternative_row, criteria, parameters))"
   ]
  },
  {
   "cell_type": "markdown",
   "metadata": {},
   "source": [
    "1.6) Finish the below function for generating a concordance matrix. Use a majority_threshold as a cutting-level. For hich pairs a concordance is fulfilled?"
   ]
  },
  {
   "cell_type": "code",
   "execution_count": 7,
   "metadata": {},
   "outputs": [],
   "source": [
    "def getConcordanceMatrix(data, criteria, parameters, majority_treshold=0.85):\n",
    "    concordance_matrix = np.zeros((len(data),len(data)))\n",
    "    for alternative_id, alternative_row in data.iterrows():\n",
    "        for alternative_id_2, alternative_row_2 in data.iterrows():\n",
    "            concordance_matrix[alternative_id][alternative_id_2] = 1 if getComprehensiveConcordance(alternative_row, alternative_row_2, criteria, parameters) >= majority_treshold else 0    \n",
    "    return concordance_matrix"
   ]
  },
  {
   "cell_type": "code",
   "execution_count": 8,
   "metadata": {},
   "outputs": [
    {
     "name": "stdout",
     "output_type": "stream",
     "text": [
      "[[1. 0. 0. 0. 0.]\n",
      " [0. 1. 0. 0. 1.]\n",
      " [0. 0. 1. 0. 0.]\n",
      " [1. 0. 0. 1. 0.]\n",
      " [0. 0. 0. 0. 1.]]\n"
     ]
    }
   ],
   "source": [
    "print(getConcordanceMatrix(data, criteria, parameters))\n",
    "con = getConcordanceMatrix(data, criteria, parameters)"
   ]
  },
  {
   "cell_type": "markdown",
   "metadata": {},
   "source": [
    "# Part 2: outranking graph"
   ]
  },
  {
   "cell_type": "markdown",
   "metadata": {},
   "source": [
    "2.1) Complete the function that calculates marginal discordance for  $i$-th  criterion (gain type)  $d_i(a,b)$  basing on v treshold. $d_i(a,b) = 1$ when $a$ is worse than $b$ on criterion $i$ by at least the veto threshold, zero otherwise."
   ]
  },
  {
   "cell_type": "code",
   "execution_count": 9,
   "metadata": {},
   "outputs": [],
   "source": [
    "def getDiscordanceGain(A ,B, v):\n",
    "    return 1 if B - A >= v else 0\n",
    "\n",
    "def getDiscordanceCost(A, B, v):\n",
    "    return getDiscordanceGain(B, A, v)"
   ]
  },
  {
   "cell_type": "markdown",
   "metadata": {},
   "source": [
    "2.2) Calculate a comprehensive discordance index.  $𝐷(a,b)=1$  if at least one criterion vetoes against $a S b$."
   ]
  },
  {
   "cell_type": "code",
   "execution_count": 10,
   "metadata": {},
   "outputs": [],
   "source": [
    "def getComprehensiveDiscordance(alternative_a, alternative_b, criteria, parameters): \n",
    "    for criterium in criteria:\n",
    "        if (getDiscordanceCost(alternative_a[criterium], alternative_b[criterium], parameters[criterium]['v'])\\\n",
    "            if parameters[criterium]['type'] == \"cost\"\\\n",
    "                else getDiscordanceGain(alternative_a[criterium], alternative_b[criterium], parameters[criterium]['v'])):\n",
    "            return 1\n",
    "    return 0\n"
   ]
  },
  {
   "cell_type": "markdown",
   "metadata": {},
   "source": [
    "2.3) Check comprehensive discordance indexes for D(bus, some transportation):"
   ]
  },
  {
   "cell_type": "code",
   "execution_count": 11,
   "metadata": {},
   "outputs": [
    {
     "name": "stdout",
     "output_type": "stream",
     "text": [
      "D(0,0) =  0\n",
      "D(0,1) =  1\n",
      "D(0,2) =  1\n",
      "D(0,3) =  0\n",
      "D(0,4) =  1\n"
     ]
    }
   ],
   "source": [
    "for alternative_id, alternative_row in data.iterrows():\n",
    "    #print(data.loc[0], alternative_row)\n",
    "    print(\"D({0},{1}) = \".format(0, alternative_id),getComprehensiveDiscordance(data.loc[0], \\\n",
    "                                                                                alternative_row, criteria, parameters))"
   ]
  },
  {
   "cell_type": "markdown",
   "metadata": {},
   "source": [
    "2.4) Finish the below function for calculating a comprehensive discordance matrix."
   ]
  },
  {
   "cell_type": "code",
   "execution_count": 12,
   "metadata": {},
   "outputs": [],
   "source": [
    "def getDiscordanceMatrix(data, criteria, parameters):\n",
    "    discordance_matrix = np.zeros((len(data),len(data)))\n",
    "    for alternative_id, alternative_row in data.iterrows():\n",
    "        for alternative_id_2, alternative_row_2 in data.iterrows():\n",
    "            discordance_matrix[alternative_id][alternative_id_2] = getComprehensiveDiscordance(alternative_row, alternative_row_2, criteria, parameters)  \n",
    "    return discordance_matrix"
   ]
  },
  {
   "cell_type": "code",
   "execution_count": 13,
   "metadata": {},
   "outputs": [
    {
     "name": "stdout",
     "output_type": "stream",
     "text": [
      "[[0. 1. 1. 0. 1.]\n",
      " [0. 0. 1. 1. 0.]\n",
      " [0. 1. 0. 0. 1.]\n",
      " [0. 0. 0. 0. 1.]\n",
      " [1. 0. 1. 1. 0.]]\n"
     ]
    }
   ],
   "source": [
    "disc = getDiscordanceMatrix(data, criteria, parameters)\n",
    "print(getDiscordanceMatrix(data, criteria, parameters))"
   ]
  },
  {
   "cell_type": "markdown",
   "metadata": {},
   "source": [
    "2.5) Now, finish the below function for generating the outranking matrixThis method should take into account both the concordance and discordance matrices."
   ]
  },
  {
   "cell_type": "code",
   "execution_count": 14,
   "metadata": {},
   "outputs": [],
   "source": [
    "def getOutrankingMatrix(data, criteria, parameters,con,disc, majority_treshold):\n",
    "    outranking_matrix = np.zeros((len(data),len(data)))\n",
    "    for i in range(len(con)):\n",
    "        for j in range(len(con[i])):\n",
    "            outranking_matrix[i][j] = con[i][j] and not disc[i][j]\n",
    "    \n",
    "    return outranking_matrix"
   ]
  },
  {
   "cell_type": "code",
   "execution_count": 15,
   "metadata": {},
   "outputs": [
    {
     "name": "stdout",
     "output_type": "stream",
     "text": [
      "[[1. 0. 0. 0. 0.]\n",
      " [0. 1. 0. 0. 1.]\n",
      " [0. 0. 1. 0. 0.]\n",
      " [1. 0. 0. 1. 0.]\n",
      " [0. 0. 0. 0. 1.]] \n",
      "\n",
      " [[0. 1. 1. 0. 1.]\n",
      " [0. 0. 1. 1. 0.]\n",
      " [0. 1. 0. 0. 1.]\n",
      " [0. 0. 0. 0. 1.]\n",
      " [1. 0. 1. 1. 0.]] \n",
      "\n",
      " [[1. 0. 0. 0. 0.]\n",
      " [0. 1. 0. 0. 1.]\n",
      " [0. 0. 1. 0. 0.]\n",
      " [1. 0. 0. 1. 0.]\n",
      " [0. 0. 0. 0. 1.]]\n"
     ]
    }
   ],
   "source": [
    "outranking_matrix = getOutrankingMatrix(data, criteria, parameters ,con,disc,majority_treshold=0.85)\n",
    "print(con,'\\n''\\n',disc,'\\n''\\n',outranking_matrix)"
   ]
  },
  {
   "cell_type": "markdown",
   "metadata": {},
   "source": [
    "2.3) Change outranking matrix to adjacency list as a dictionary that every alternative $a$ has a list of alternatives that $a$ outranks. For simplicity, assume that there are no edges between the vertex and itself (a->a)."
   ]
  },
  {
   "cell_type": "raw",
   "metadata": {},
   "source": [
    "#EXAMPLE\n",
    "{\n",
    "    1:[], alternative 1 not outrank any other alternatives\n",
    "    2:[1,3], alternative 2 outranks alternatives 1 and 3\n",
    "    ..\n",
    "}"
   ]
  },
  {
   "cell_type": "code",
   "execution_count": 16,
   "metadata": {},
   "outputs": [
    {
     "data": {
      "text/html": [
       "<div>\n",
       "<style scoped>\n",
       "    .dataframe tbody tr th:only-of-type {\n",
       "        vertical-align: middle;\n",
       "    }\n",
       "\n",
       "    .dataframe tbody tr th {\n",
       "        vertical-align: top;\n",
       "    }\n",
       "\n",
       "    .dataframe thead th {\n",
       "        text-align: right;\n",
       "    }\n",
       "</style>\n",
       "<table border=\"1\" class=\"dataframe\">\n",
       "  <thead>\n",
       "    <tr style=\"text-align: right;\">\n",
       "      <th></th>\n",
       "      <th>mode</th>\n",
       "      <th>time</th>\n",
       "      <th>comfort</th>\n",
       "      <th>price</th>\n",
       "      <th>reliability</th>\n",
       "    </tr>\n",
       "  </thead>\n",
       "  <tbody>\n",
       "    <tr>\n",
       "      <th>0</th>\n",
       "      <td>bus</td>\n",
       "      <td>6</td>\n",
       "      <td>3</td>\n",
       "      <td>6</td>\n",
       "      <td>2</td>\n",
       "    </tr>\n",
       "    <tr>\n",
       "      <th>1</th>\n",
       "      <td>bike</td>\n",
       "      <td>8</td>\n",
       "      <td>2</td>\n",
       "      <td>2</td>\n",
       "      <td>8</td>\n",
       "    </tr>\n",
       "    <tr>\n",
       "      <th>2</th>\n",
       "      <td>car</td>\n",
       "      <td>2</td>\n",
       "      <td>10</td>\n",
       "      <td>9</td>\n",
       "      <td>7</td>\n",
       "    </tr>\n",
       "    <tr>\n",
       "      <th>3</th>\n",
       "      <td>train</td>\n",
       "      <td>3</td>\n",
       "      <td>5</td>\n",
       "      <td>5</td>\n",
       "      <td>6</td>\n",
       "    </tr>\n",
       "    <tr>\n",
       "      <th>4</th>\n",
       "      <td>foot</td>\n",
       "      <td>10</td>\n",
       "      <td>2</td>\n",
       "      <td>0</td>\n",
       "      <td>5</td>\n",
       "    </tr>\n",
       "  </tbody>\n",
       "</table>\n",
       "</div>"
      ],
      "text/plain": [
       "    mode  time  comfort  price  reliability\n",
       "0    bus     6        3      6            2\n",
       "1   bike     8        2      2            8\n",
       "2    car     2       10      9            7\n",
       "3  train     3        5      5            6\n",
       "4   foot    10        2      0            5"
      ]
     },
     "execution_count": 16,
     "metadata": {},
     "output_type": "execute_result"
    }
   ],
   "source": [
    "data"
   ]
  },
  {
   "cell_type": "code",
   "execution_count": 17,
   "metadata": {},
   "outputs": [],
   "source": [
    "def toAdjacencyList(outranking_matrix):\n",
    "    adjacency_list = {i+1: [] for i in range(len(outranking_matrix))}\n",
    "    for row_index, row in enumerate(outranking_matrix,1):\n",
    "        for column_index, column in enumerate(row, 1):\n",
    "            if row_index != column_index and column:\n",
    "                adjacency_list[row_index].append(column_index)\n",
    "    return adjacency_list\n",
    "        "
   ]
  },
  {
   "cell_type": "code",
   "execution_count": 18,
   "metadata": {},
   "outputs": [
    {
     "name": "stdout",
     "output_type": "stream",
     "text": [
      "{1: [], 2: [5], 3: [], 4: [1], 5: []}\n"
     ]
    }
   ],
   "source": [
    "graph = toAdjacencyList(outranking_matrix)\n",
    "# graph['34']=[1]\n",
    "# del graph[3]\n",
    "# del graph[4]\n",
    "print(graph)"
   ]
  },
  {
   "cell_type": "markdown",
   "metadata": {},
   "source": [
    "2.4) Draw outranking graph, and remove cycles (manually)."
   ]
  },
  {
   "cell_type": "code",
   "execution_count": 19,
   "metadata": {},
   "outputs": [],
   "source": [
    "cm.PrintGraph(graph, filename=\"graph_part_2\")"
   ]
  },
  {
   "cell_type": "markdown",
   "metadata": {},
   "source": [
    "2.5) Which mode of transport are in the kernel?"
   ]
  },
  {
   "cell_type": "raw",
   "metadata": {},
   "source": [
    "Kernel: (train,foot), car"
   ]
  },
  {
   "cell_type": "markdown",
   "metadata": {},
   "source": [
    "# Part 3: Kernel"
   ]
  },
  {
   "cell_type": "markdown",
   "metadata": {},
   "source": [
    "3.1) Given is the below outranking matrix"
   ]
  },
  {
   "cell_type": "code",
   "execution_count": 20,
   "metadata": {},
   "outputs": [],
   "source": [
    "outranking_matrix =np.array(   [[0., 1., 0., 0., 0., 0., 1., 0.],\n",
    "                                [0., 0., 1., 0., 1., 0., 0., 0.],\n",
    "                                [0., 0., 0., 0., 0., 0., 0., 1.],\n",
    "                                [0., 0., 0., 0., 1., 0., 1., 0.],\n",
    "                                [0., 0., 0., 0., 0., 1., 0., 0.],\n",
    "                                [0., 0., 0., 0., 0., 0., 1., 0.],\n",
    "                                [0., 0., 0., 0., 0., 0., 0., 1.],\n",
    "                                [0., 0., 0., 0., 0., 0., 0., 0.]])"
   ]
  },
  {
   "cell_type": "code",
   "execution_count": 21,
   "metadata": {},
   "outputs": [],
   "source": [
    "graph = toAdjacencyList(outranking_matrix)"
   ]
  },
  {
   "cell_type": "code",
   "execution_count": 22,
   "metadata": {},
   "outputs": [
    {
     "data": {
      "text/plain": [
       "{1: [2, 7], 2: [3, 5], 3: [8], 4: [5, 7], 5: [6], 6: [7], 7: [8], 8: []}"
      ]
     },
     "execution_count": 22,
     "metadata": {},
     "output_type": "execute_result"
    }
   ],
   "source": [
    "graph"
   ]
  },
  {
   "cell_type": "markdown",
   "metadata": {},
   "source": [
    "3.2) Display the outranking graph. Which alternatives belong to kernel?"
   ]
  },
  {
   "cell_type": "code",
   "execution_count": 23,
   "metadata": {},
   "outputs": [],
   "source": [
    "cm.PrintGraph(graph, filename=\"graph_part_3\")"
   ]
  },
  {
   "cell_type": "markdown",
   "metadata": {},
   "source": [
    "3.3) In this exercise, you are asked to complete the function for constructing a kernel. Firstly, complete the below auxiliary function which reverses edges of the graph."
   ]
  },
  {
   "cell_type": "code",
   "execution_count": 24,
   "metadata": {},
   "outputs": [],
   "source": [
    "def getReverseGraph(graph):\n",
    "    reverse_graph = {}\n",
    "    for key in graph.keys():\n",
    "        for element in graph[key]:\n",
    "            if element not in reverse_graph.keys():\n",
    "                reverse_graph[element] = []\n",
    "            reverse_graph[element].append(int(key))\n",
    "    return reverse_graph"
   ]
  },
  {
   "cell_type": "markdown",
   "metadata": {},
   "source": [
    "3.4) Verify the correctness: compare the below reverse_graph with the above graph."
   ]
  },
  {
   "cell_type": "code",
   "execution_count": 25,
   "metadata": {},
   "outputs": [
    {
     "data": {
      "text/plain": [
       "{2: [1], 7: [1, 4, 6], 3: [2], 5: [2, 4], 8: [3, 7], 6: [5]}"
      ]
     },
     "execution_count": 25,
     "metadata": {},
     "output_type": "execute_result"
    }
   ],
   "source": [
    "reverse_graph = getReverseGraph(graph)\n",
    "reverse_graph"
   ]
  },
  {
   "cell_type": "code",
   "execution_count": 26,
   "metadata": {},
   "outputs": [],
   "source": [
    "cm.PrintGraph(reverse_graph, filename=\"reverse_graph_part_3\")"
   ]
  },
  {
   "cell_type": "markdown",
   "metadata": {},
   "source": [
    "3.5) Now, complete the below function for finding a graph kernel. This algorithm should proceed in the following way: <br>\n",
    "1) Find non-outranked vertices. Add them to the kernel. <br> \n",
    "2) Remove vertices found in step 1 from the graph and these vertices which are directly surpassed by them.<br>\n",
    "3) Repeat (go to 1) until all vertices are removed from the graph. "
   ]
  },
  {
   "cell_type": "code",
   "execution_count": 27,
   "metadata": {},
   "outputs": [],
   "source": [
    "{1: [2, 7], 2: [3, 5], 3: [8], 4: [5, 7], 5: [6], 6: [7], 7: [8], 8: []}\n",
    "\n",
    "def Kernel(graph):\n",
    "    reverse_graph = getReverseGraph(graph)\n",
    "    kernel = []\n",
    "    while graph:\n",
    "        elements=[]\n",
    "        for graph_element in graph.keys():\n",
    "            for graph_element_child in graph[graph_element]:\n",
    "                if graph_element_child not in graph.keys():\n",
    "                    graph[graph_element].remove(graph_element_child)\n",
    "        for key in graph.keys():\n",
    "            for element in graph[key]:\n",
    "                elements.append(element)\n",
    "        for key in graph.keys():\n",
    "            if key not in set(elements):\n",
    "                kernel.append(key)\n",
    "        for kernel_member in kernel:\n",
    "            if kernel_member in graph.keys():\n",
    "                for kernel_member_child in graph[kernel_member]:\n",
    "                    if kernel_member_child in graph.keys():\n",
    "                        del graph[kernel_member_child]\n",
    "                del graph[kernel_member]\n",
    "    return kernel"
   ]
  },
  {
   "cell_type": "code",
   "execution_count": 28,
   "metadata": {},
   "outputs": [],
   "source": [
    "graph = toAdjacencyList(outranking_matrix)\n"
   ]
  },
  {
   "cell_type": "code",
   "execution_count": 29,
   "metadata": {},
   "outputs": [],
   "source": [
    "kernel = Kernel(graph)"
   ]
  },
  {
   "cell_type": "code",
   "execution_count": 30,
   "metadata": {},
   "outputs": [
    {
     "name": "stdout",
     "output_type": "stream",
     "text": [
      "[1, 4, 3, 6]\n"
     ]
    }
   ],
   "source": [
    "print(kernel)"
   ]
  },
  {
   "cell_type": "code",
   "execution_count": null,
   "metadata": {},
   "outputs": [],
   "source": []
  },
  {
   "cell_type": "code",
   "execution_count": null,
   "metadata": {},
   "outputs": [],
   "source": []
  }
 ],
 "metadata": {
  "kernelspec": {
   "display_name": "Python 3",
   "language": "python",
   "name": "python3"
  },
  "language_info": {
   "codemirror_mode": {
    "name": "ipython",
    "version": 3
   },
   "file_extension": ".py",
   "mimetype": "text/x-python",
   "name": "python",
   "nbconvert_exporter": "python",
   "pygments_lexer": "ipython3",
   "version": "3.7.5"
  }
 },
 "nbformat": 4,
 "nbformat_minor": 4
}
