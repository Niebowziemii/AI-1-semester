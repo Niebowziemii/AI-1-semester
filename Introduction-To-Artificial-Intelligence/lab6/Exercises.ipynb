{
 "cells": [
  {
   "cell_type": "code",
   "execution_count": 1,
   "metadata": {},
   "outputs": [],
   "source": [
    "%matplotlib inline\n",
    "import matplotlib.pyplot as plt\n",
    "import numpy as np\n"
   ]
  },
  {
   "cell_type": "markdown",
   "metadata": {},
   "source": [
    "# Part 1: Linear layer"
   ]
  },
  {
   "cell_type": "markdown",
   "metadata": {},
   "source": [
    "1.1) Let's consider a linear regression problem with 100 samples described by the formula  $y = a*x+b + noise$"
   ]
  },
  {
   "cell_type": "code",
   "execution_count": 2,
   "metadata": {},
   "outputs": [],
   "source": [
    "n = 100\n",
    "a = -2\n",
    "b = 3"
   ]
  },
  {
   "cell_type": "code",
   "execution_count": 3,
   "metadata": {},
   "outputs": [
    {
     "data": {
      "text/plain": [
       "<matplotlib.collections.PathCollection at 0x26435851748>"
      ]
     },
     "execution_count": 3,
     "metadata": {},
     "output_type": "execute_result"
    },
    {
     "data": {
      "image/png": "[encoded data removed]",
      "text/plain": [
       "<Figure size 432x288 with 1 Axes>"
      ]
     },
     "metadata": {
      "needs_background": "light"
     },
     "output_type": "display_data"
    }
   ],
   "source": [
    "x = np.linspace(-1, 1, n)\n",
    "y = a * x + b + np.random.normal(scale=0.25, size=n)\n",
    "\n",
    "plt.scatter(x, y)"
   ]
  },
  {
   "cell_type": "markdown",
   "metadata": {},
   "source": [
    "1.2) The task is to find the parameters $a$ and $b$. Write a function which calculates loss of the model as a mean square error $ \\frac{(y-\\widehat{y})^2}{n}$ where $y$ is target, $\\widehat{y}$ is output of the model."
   ]
  },
  {
   "cell_type": "code",
   "execution_count": null,
   "metadata": {},
   "outputs": [],
   "source": [
    "def mse(y_target, y_calc):\n",
    "    "
   ]
  },
  {
   "cell_type": "code",
   "execution_count": null,
   "metadata": {},
   "outputs": [],
   "source": [
    "a_2 = 1.1\n",
    "b_2 = 2"
   ]
  },
  {
   "cell_type": "code",
   "execution_count": null,
   "metadata": {},
   "outputs": [],
   "source": [
    "y_calc = a_2 * x + b_2\n",
    "mse(y, y_calc)"
   ]
  },
  {
   "cell_type": "code",
   "execution_count": null,
   "metadata": {},
   "outputs": [],
   "source": [
    "plt.scatter(x, y, label=\"target\")\n",
    "plt.scatter(x, y_calc, label=\"calculated\")\n",
    "plt.legend()"
   ]
  },
  {
   "cell_type": "markdown",
   "metadata": {},
   "source": [
    "1.3) Write a function which calculates gradient of loss function, (y_target, and y_calc are tensor not one value)."
   ]
  },
  {
   "cell_type": "code",
   "execution_count": null,
   "metadata": {},
   "outputs": [],
   "source": [
    "def mse_grad(y_target, y_calc):\n",
    "    "
   ]
  },
  {
   "cell_type": "markdown",
   "metadata": {},
   "source": [
    "1.4) Fill the update function to calculate gradient of parameter $a$ and $b$ basing on a gradient of loss function (grad_y) and input vector (x).\n",
    "Then update the parameter $a$ and $b$ base on their gradients and learning rate (lr)."
   ]
  },
  {
   "cell_type": "code",
   "execution_count": null,
   "metadata": {},
   "outputs": [],
   "source": [
    "class LinearLayer:\n",
    "    def __init__(self, a, b):\n",
    "        self.a = a\n",
    "        self.b = b\n",
    "\n",
    "    def __call__(self, x):\n",
    "        return self.a * x + self.b\n",
    "\n",
    "    def update(self, x, grad_y, lr):\n",
    "        #TODO"
   ]
  },
  {
   "cell_type": "markdown",
   "metadata": {},
   "source": [
    "1.5) Write Step function which calculates: y_calc output of the model base on input x, loss of the model, gradient of loss, and update the model parameters."
   ]
  },
  {
   "cell_type": "code",
   "execution_count": null,
   "metadata": {},
   "outputs": [],
   "source": [
    "def Step(x, y, model, lr):\n",
    "    #TODO\n",
    "    return y_calc, loss"
   ]
  },
  {
   "cell_type": "markdown",
   "metadata": {},
   "source": [
    "1.6) Fit the model for 100 epochs, with learning rate 0.05, and with initial value of parameters a = 1.1, and b = 2."
   ]
  },
  {
   "cell_type": "code",
   "execution_count": null,
   "metadata": {},
   "outputs": [],
   "source": [
    "model = LinearLayer(1.1, 2)"
   ]
  },
  {
   "cell_type": "code",
   "execution_count": null,
   "metadata": {},
   "outputs": [],
   "source": [
    "lr = 0.05"
   ]
  },
  {
   "cell_type": "code",
   "execution_count": null,
   "metadata": {},
   "outputs": [],
   "source": [
    "epoch = 100\n",
    "losses = []\n",
    "for i in range(epoch):\n",
    "    y_calc, loss = Step(x, y, model, lr)\n",
    "    losses.append(loss)"
   ]
  },
  {
   "cell_type": "code",
   "execution_count": null,
   "metadata": {},
   "outputs": [],
   "source": [
    "plt.plot(losses)"
   ]
  },
  {
   "cell_type": "markdown",
   "metadata": {},
   "source": [
    "Animation of the learning process"
   ]
  },
  {
   "cell_type": "code",
   "execution_count": null,
   "metadata": {},
   "outputs": [],
   "source": [
    "from matplotlib import animation, rc\n",
    "rc('animation', html='jshtml')"
   ]
  },
  {
   "cell_type": "code",
   "execution_count": null,
   "metadata": {},
   "outputs": [],
   "source": [
    "model = LinearLayer(1.1, 2)\n",
    "fig = plt.figure()\n",
    "plt.scatter(x, y)\n",
    "line, = plt.plot(x, y_calc, \".\", c=\"orange\")\n",
    "plt.close()\n",
    "\n",
    "\n",
    "def animate(i):\n",
    "    y_calc, loss = Step(x, y, model, lr)\n",
    "    line.set_ydata(y_calc)\n",
    "    return (line,)\n",
    "\n",
    "\n",
    "animation.FuncAnimation(fig, animate, np.arange(0, epoch), interval=20)"
   ]
  },
  {
   "cell_type": "markdown",
   "metadata": {},
   "source": [
    "1.7) There is an example it can be done in pytorch."
   ]
  },
  {
   "cell_type": "code",
   "execution_count": null,
   "metadata": {},
   "outputs": [],
   "source": [
    "# Imports\n",
    "import torch\n",
    "import torch.nn as nn"
   ]
  },
  {
   "cell_type": "code",
   "execution_count": null,
   "metadata": {},
   "outputs": [],
   "source": [
    "# Convert numpy array to torch tensor, [:,None] add an additional dimension\n",
    "xt = torch.FloatTensor(x[:, None])\n",
    "yt = torch.FloatTensor(y[:, None])"
   ]
  },
  {
   "cell_type": "code",
   "execution_count": null,
   "metadata": {},
   "outputs": [],
   "source": [
    "def mse(y_target, y_calc):\n",
    "    return ((y_target - y_calc) ** 2).mean()"
   ]
  },
  {
   "cell_type": "code",
   "execution_count": null,
   "metadata": {},
   "outputs": [],
   "source": [
    "class LinearLayer(nn.Module):\n",
    "    def __init__(self, a, b):\n",
    "        super(LinearLayer, self).__init__()  # initialize torch functionality\n",
    "        # change a and b to float tensor, and next to parameters,\n",
    "        # the main difference between tensor and parameter is that parameter keeps information about calculations,\n",
    "        # which is used to calculate gradients\n",
    "        self.a = nn.Parameter(torch.FloatTensor([a]).view(1, 1))\n",
    "        self.b = nn.Parameter(torch.FloatTensor([b]))\n",
    "\n",
    "    # forward function is similar to python __call__ but also contain torch functionality\n",
    "    def forward(self, x):\n",
    "        return  x @ self.a + self.b  # linear equation, @ means matrix multiplication for tensor\n",
    "\n",
    "    def update(self, lr):\n",
    "        with torch.no_grad():  # when we update parameter, we have to switch off gradient tracking\n",
    "            self.a.sub_(lr * self.a.grad)  # inplace update of parameter a\n",
    "            self.a.grad.zero_()  # clear gradient\n",
    "\n",
    "            self.b.sub_(lr * self.b.grad)\n",
    "            self.b.grad.zero_()"
   ]
  },
  {
   "cell_type": "code",
   "execution_count": null,
   "metadata": {},
   "outputs": [],
   "source": [
    "model =  LinearLayer(-1.1, 0.2)"
   ]
  },
  {
   "cell_type": "code",
   "execution_count": null,
   "metadata": {},
   "outputs": [],
   "source": [
    "def torchStep(x, y, model, lr):\n",
    "    y_calc = model(x)  # calculate the output of our model\n",
    "    loss = mse(y, y_calc)  # calculate the loss\n",
    "    loss.backward()  # calculate all gradients\n",
    "    model.update(lr)  # update parameters\n",
    "    return loss, y_calc"
   ]
  },
  {
   "cell_type": "code",
   "execution_count": null,
   "metadata": {},
   "outputs": [],
   "source": [
    "loss, y_calc = torchStep(xt, yt, model, lr)\n",
    "y_calc = y_calc.detach().cpu()\n",
    "fig = plt.figure()\n",
    "plt.scatter(xt[:, 0], yt)\n",
    "line, = plt.plot(xt[:, 0], y_calc, c=\"orange\")\n",
    "plt.close()\n",
    "\n",
    "\n",
    "def animate(i):\n",
    "    loss, y_calc = torchStep(xt, yt, model, lr)\n",
    "    y_calc = y_calc.detach().cpu()  #\n",
    "    line.set_ydata(y_calc)\n",
    "    return (line,)\n",
    "\n",
    "\n",
    "animation.FuncAnimation(fig, animate, np.arange(0, 100), interval=20)"
   ]
  },
  {
   "cell_type": "code",
   "execution_count": null,
   "metadata": {},
   "outputs": [],
   "source": [
    "# we can use optymalizer to update parameters base on their gradients\n",
    "# the most simple is stochastic gradient descent (SGD)\n",
    "def torchStep2(x, y, model, optim):\n",
    "    optim.zero_grad()  # clear gradients\n",
    "    y_calc = model(x)  # calculate output of model\n",
    "    loss = mse(y, y_calc)  # calculate loss\n",
    "    loss.backward()  # calculate all gradients\n",
    "    optim.step()  # make a optymalizer step which update parameters\n",
    "    return loss, y_calc"
   ]
  },
  {
   "cell_type": "code",
   "execution_count": null,
   "metadata": {},
   "outputs": [],
   "source": [
    "model = LinearLayer(-1.1, 0.2)\n",
    "optim = torch.optim.SGD(model.parameters(), lr)"
   ]
  },
  {
   "cell_type": "code",
   "execution_count": null,
   "metadata": {},
   "outputs": [],
   "source": [
    "loss, y_calc = torchStep2(xt, yt, model, optim)\n",
    "y_calc = y_calc.detach().cpu()\n",
    "fig = plt.figure()\n",
    "plt.scatter(xt[:, 0], yt)\n",
    "line, = plt.plot(xt[:, 0], y_calc, c=\"orange\")\n",
    "plt.close()\n",
    "\n",
    "\n",
    "def animate(i):\n",
    "    loss, y_calc = torchStep2(xt, yt, model, optim)\n",
    "    y_calc = y_calc.detach().cpu()\n",
    "    line.set_ydata(y_calc)\n",
    "    return (line,)\n",
    "\n",
    "\n",
    "animation.FuncAnimation(fig, animate, np.arange(0, 100), interval=20)"
   ]
  },
  {
   "cell_type": "markdown",
   "metadata": {},
   "source": [
    "# Part 2: Convolution layer"
   ]
  },
  {
   "cell_type": "code",
   "execution_count": null,
   "metadata": {},
   "outputs": [],
   "source": [
    "# input image\n",
    "image = np.array(\n",
    "    [\n",
    "        [0, 0, 0, 0, 0, 1, 0, 0, 0, 0, 0, 0, 0, 0, 0, 0, 0, 0, 0, 0],\n",
    "        [0, 0, 0, 0, 0, 1, 0, 0, 0, 0, 0, 0, 1, 1, 1, 1, 1, 1, 0, 0],\n",
    "        [0, 0, 0, 0, 0, 1, 0, 0, 0, 0, 0, 0, 1, 0, 0, 0, 0, 1, 0, 0],\n",
    "        [0, 0, 0, 0, 0, 1, 0, 0, 0, 0, 0, 0, 1, 0, 0, 0, 0, 1, 0, 0],\n",
    "        [0, 0, 0, 0, 0, 1, 0, 0, 0, 0, 0, 0, 1, 0, 0, 0, 0, 1, 0, 0],\n",
    "        [0, 0, 0, 0, 0, 1, 0, 0, 0, 0, 0, 0, 1, 0, 0, 0, 0, 1, 0, 0],\n",
    "        [0, 0, 0, 0, 0, 1, 0, 0, 0, 0, 0, 0, 1, 1, 1, 1, 1, 1, 0, 0],\n",
    "        [1, 0, 0, 0, 0, 1, 0, 0, 0, 0, 0, 0, 0, 0, 0, 0, 0, 0, 0, 0],\n",
    "        [0, 1, 0, 0, 0, 1, 0, 0, 0, 0, 0, 0, 0, 0, 0, 0, 0, 0, 0, 0],\n",
    "        [0, 0, 1, 0, 0, 1, 0, 0, 0, 0, 0, 0, 0, 0, 0, 0, 0, 0, 0, 0],\n",
    "        [1, 1, 1, 1, 1, 1, 1, 1, 1, 1, 1, 1, 1, 1, 1, 1, 1, 1, 1, 1],\n",
    "        [0, 0, 0, 0, 1, 1, 0, 0, 0, 0, 0, 0, 0, 0, 0, 0, 0, 0, 0, 0],\n",
    "        [0, 0, 0, 0, 0, 1, 0, 0, 0, 0, 0, 0, 0, 0, 0, 0, 0, 0, 0, 0],\n",
    "        [0, 0, 0, 0, 0, 1, 1, 0, 0, 0, 0, 0, 0, 0, 0, 0, 0, 0, 0, 0],\n",
    "        [0, 0, 0, 0, 0, 1, 0, 1, 0, 0, 0, 0, 0, 0, 0, 1, 0, 0, 0, 1],\n",
    "        [0, 0, 0, 0, 0, 1, 0, 0, 1, 0, 0, 0, 0, 0, 0, 0, 0, 0, 1, 0],\n",
    "        [0, 0, 0, 0, 0, 1, 0, 0, 0, 1, 0, 0, 0, 0, 0, 0, 0, 1, 0, 0],\n",
    "        [0, 0, 0, 0, 0, 1, 0, 0, 0, 0, 1, 0, 0, 0, 0, 0, 1, 0, 0, 0],\n",
    "        [0, 0, 0, 0, 0, 1, 0, 0, 0, 0, 0, 1, 0, 0, 0, 1, 0, 0, 0, 0],\n",
    "        [0, 0, 0, 0, 0, 1, 0, 0, 0, 0, 0, 0, 1, 0, 1, 0, 0, 0, 0, 0],\n",
    "    ]\n",
    ")"
   ]
  },
  {
   "cell_type": "code",
   "execution_count": null,
   "metadata": {},
   "outputs": [],
   "source": [
    "plt.imshow(image)"
   ]
  },
  {
   "cell_type": "markdown",
   "metadata": {},
   "source": [
    "2.1) Write a function which calculates a convolution on an input matrix (image) using kernel (mask) with shape 3x3 and bias. Do not use padding, so the output image should be in size: (input_wight -2) x (input_height -2)."
   ]
  },
  {
   "cell_type": "code",
   "execution_count": null,
   "metadata": {},
   "outputs": [],
   "source": [
    "def Convolution(image, kernel, bias):\n",
    "    img_out = np.zeros((image.shape[0] - 2, image.shape[1] - 2))\n",
    "    #TODO\n",
    "    return img_out"
   ]
  },
  {
   "cell_type": "code",
   "execution_count": null,
   "metadata": {},
   "outputs": [],
   "source": [
    "# kernel (mask) which is mean filter\n",
    "kernel = np.ones((3, 3)) / 9\n",
    "kernel"
   ]
  },
  {
   "cell_type": "code",
   "execution_count": null,
   "metadata": {},
   "outputs": [],
   "source": [
    "bias = -0.5"
   ]
  },
  {
   "cell_type": "code",
   "execution_count": null,
   "metadata": {},
   "outputs": [],
   "source": [
    "img_out = Convolution(image, kernel, bias)"
   ]
  },
  {
   "cell_type": "code",
   "execution_count": null,
   "metadata": {},
   "outputs": [],
   "source": [
    "plt.imshow(img_out)"
   ]
  },
  {
   "cell_type": "markdown",
   "metadata": {},
   "source": [
    "2.2) Find out kernels (masks) which found horizontal and vertical lines."
   ]
  },
  {
   "cell_type": "code",
   "execution_count": null,
   "metadata": {},
   "outputs": [],
   "source": [
    "kernel_horizontal ="
   ]
  },
  {
   "cell_type": "code",
   "execution_count": null,
   "metadata": {},
   "outputs": [],
   "source": [
    "img_horizontal = Convolution(image, kernel_horizontal, 0)\n",
    "plt.imshow(img_horizontal)"
   ]
  },
  {
   "cell_type": "code",
   "execution_count": null,
   "metadata": {},
   "outputs": [],
   "source": [
    "kernel_vertical = "
   ]
  },
  {
   "cell_type": "code",
   "execution_count": null,
   "metadata": {},
   "outputs": [],
   "source": [
    "img_vertical = Convolution(image, kernel_vertical, 0)\n",
    "plt.imshow(img_vertical)"
   ]
  },
  {
   "cell_type": "markdown",
   "metadata": {},
   "source": [
    "2.3) Complete function to calculate ReLU."
   ]
  },
  {
   "cell_type": "code",
   "execution_count": null,
   "metadata": {},
   "outputs": [],
   "source": [
    "def relu(x):\n",
    "    "
   ]
  },
  {
   "cell_type": "markdown",
   "metadata": {},
   "source": [
    "2.4) Find bias values such that output images pixels have a value above 0 only if original pixel is a part of the horizontal/vertical line."
   ]
  },
  {
   "cell_type": "code",
   "execution_count": null,
   "metadata": {},
   "outputs": [],
   "source": [
    "plt.imshow(relu(img_horizontal))\n",
    "plt.show()\n",
    "plt.imshow(relu(img_vertical))"
   ]
  },
  {
   "cell_type": "markdown",
   "metadata": {},
   "source": [
    "# Part 3: Deep network"
   ]
  },
  {
   "cell_type": "code",
   "execution_count": null,
   "metadata": {},
   "outputs": [],
   "source": [
    "import pandas as pd"
   ]
  },
  {
   "cell_type": "code",
   "execution_count": null,
   "metadata": {},
   "outputs": [],
   "source": [
    "# load iris dataset\n",
    "df = pd.read_csv('data/iris.csv')"
   ]
  },
  {
   "cell_type": "code",
   "execution_count": null,
   "metadata": {},
   "outputs": [],
   "source": [
    "# n - number of elements in dataset\n",
    "n = len(df)"
   ]
  },
  {
   "cell_type": "code",
   "execution_count": null,
   "metadata": {},
   "outputs": [],
   "source": [
    "# useful variables\n",
    "feature_columns = [\"sepal.length\", \"sepal.width\", \"petal.length\", \"petal.width\"]\n",
    "target_column = \"variety\"\n",
    "class_number = 3\n",
    "feature_number = 4"
   ]
  },
  {
   "cell_type": "code",
   "execution_count": null,
   "metadata": {},
   "outputs": [],
   "source": [
    "# dictionaries use to map class name to number\n",
    "name_to_class = {0: \"Setosa\", 1: \"Versicolor\", 2: \"Virginica\"}\n",
    "class_to_name = {\"Setosa\": 0, \"Versicolor\": 1, \"Virginica\": 2}"
   ]
  },
  {
   "cell_type": "code",
   "execution_count": null,
   "metadata": {},
   "outputs": [],
   "source": [
    "# conversion of class name\n",
    "df[target_column] = df[target_column].apply(lambda x: class_to_name[x])"
   ]
  },
  {
   "cell_type": "code",
   "execution_count": null,
   "metadata": {},
   "outputs": [],
   "source": [
    "# take raw numpy data\n",
    "x = df[feature_columns].values\n",
    "y = df[target_column].values"
   ]
  },
  {
   "cell_type": "code",
   "execution_count": null,
   "metadata": {},
   "outputs": [],
   "source": [
    "# normalize data to make network input mean value equals 0 and standard deviation 1\n",
    "x = (x - x.mean(0)) / x.std(0)\n",
    "print(x.mean(0))\n",
    "print(x.std(0))"
   ]
  },
  {
   "cell_type": "code",
   "execution_count": null,
   "metadata": {},
   "outputs": [],
   "source": [
    "# conversion numpy array to torch tensor\n",
    "x = torch.FloatTensor(x)\n",
    "y = torch.LongTensor(y)"
   ]
  },
  {
   "cell_type": "code",
   "execution_count": null,
   "metadata": {},
   "outputs": [],
   "source": [
    "# simple neural network with one hidden layer with hidden_nr neuron\n",
    "# input_layer calculate some features  which are used by hidden_layer to calculate prediction\n",
    "# between input_layer and hidden_layer there is relu  as a nonlinear activation function\n",
    "# after hidden_layer there is sigmoid function because we want the network to return the result as a probability of each class in range [0,1]\n",
    "class Net(nn.Module):\n",
    "    def __init__(self, input_nr, hidden_nr, output_nr):\n",
    "        super(Net, self).__init__()\n",
    "        self.input_layer = nn.Linear(input_nr, hidden_nr)\n",
    "        self.hidden_layer = nn.Linear(hidden_nr, output_nr)\n",
    "\n",
    "    def forward(self, x):\n",
    "        x = self.input_layer(x)\n",
    "        x = torch.relu(x)\n",
    "        x = self.hidden_layer(x)\n",
    "        return torch.sigmoid(x)"
   ]
  },
  {
   "cell_type": "markdown",
   "metadata": {},
   "source": [
    "Cross entropy loss is equal $- (y=0) * log(p_0) - (y=1) * log(p_1)  - (y=2) * log(p_2)$ where $p_1, p_2,p_3$ are calculated probability of class 1,2,3; and y=0 means y is classified to class 0."
   ]
  },
  {
   "cell_type": "code",
   "execution_count": null,
   "metadata": {},
   "outputs": [],
   "source": [
    "loss_func = nn.CrossEntropyLoss()"
   ]
  },
  {
   "cell_type": "code",
   "execution_count": null,
   "metadata": {},
   "outputs": [],
   "source": [
    "# accuracy means how many samples are classified correctly\n",
    "def Accuracy(y_target, y_calc):\n",
    "    prediction_class = y_calc.max(1)[1]\n",
    "    number_of_correct = (prediction_class == y).float().sum()\n",
    "    return number_of_correct / n"
   ]
  },
  {
   "cell_type": "code",
   "execution_count": null,
   "metadata": {},
   "outputs": [],
   "source": [
    "def Step(x, y, model, optim):\n",
    "    optim.zero_grad()\n",
    "    y_calc = model(x)\n",
    "    loss = loss_func(y_calc, y)\n",
    "    loss.backward()\n",
    "    optim.step()\n",
    "    acc = Accuracy(y, y_calc)\n",
    "    return loss, y_calc, acc"
   ]
  },
  {
   "cell_type": "code",
   "execution_count": null,
   "metadata": {},
   "outputs": [],
   "source": [
    "# Train function train model for epoch step, and collect metrics (loss and accuracy)\n",
    "def Train(x, y, model, optim, epoch):\n",
    "    losses = []\n",
    "    accuracies = []\n",
    "    for i in range(epoch):\n",
    "        loss, y_calc, acc = Step(x, y, model, optim)\n",
    "        losses.append(loss)\n",
    "        accuracies.append(acc)\n",
    "    return losses, accuracies"
   ]
  },
  {
   "cell_type": "code",
   "execution_count": null,
   "metadata": {},
   "outputs": [],
   "source": [
    "lr = 0.1"
   ]
  },
  {
   "cell_type": "code",
   "execution_count": null,
   "metadata": {},
   "outputs": [],
   "source": [
    "# create a model and optimalizer\n",
    "hidden_nr = 5\n",
    "model = Net(feature_number, hidden_nr, class_number)\n",
    "optim = torch.optim.SGD(model.parameters(), lr)"
   ]
  },
  {
   "cell_type": "code",
   "execution_count": null,
   "metadata": {},
   "outputs": [],
   "source": [
    "epoch = 200\n",
    "losses, accuracies = Train(x, y, model, optim, epoch)"
   ]
  },
  {
   "cell_type": "code",
   "execution_count": null,
   "metadata": {},
   "outputs": [],
   "source": [
    "plt.plot(losses)\n",
    "plt.show()\n",
    "plt.plot(accuracies)"
   ]
  },
  {
   "cell_type": "markdown",
   "metadata": {},
   "source": [
    "## Task for 5:\n",
    "Choose one of the following:"
   ]
  },
  {
   "cell_type": "markdown",
   "metadata": {},
   "source": [
    "3.1) Create a report of testing different values of learning rate, and number of neurons in hidden layer; Run every test 10 times with 200 epochs. Make a plot of mean of losses and accuracy of each value in the test case. Make a table of score after 200 epochs of learning which should contain best, worst, mean and standard deviation of loss and accuracy (you can use pandas describe function).  \n",
    "\n",
    "    test case 1: \n",
    "    learning rate:[ 1, 0.5, 0.1, 0.01, 0.001]\n",
    "    number of neuron in hidden layer: 10\n",
    "    \n",
    "    test case 2: \n",
    "    number of neuron in hidden layer: [1, 2, 5, 10, 20, 100]\n",
    "    learning rate: 0.1\n",
    "    \n",
    "    "
   ]
  },
  {
   "cell_type": "markdown",
   "metadata": {},
   "source": [
    "3.2) If you have a GPU, you can try to make an image classifier shown inhttps://course.fast.ai/videos/?lesson=2\n",
    "You should watch all video, but after 16.30 there are creating your own dataset and next create an image classifier.\n",
    "You can use animals dataset or prepare your own dataset, but it should contain at least 4 different classes.\n",
    "\n",
    "    To finish this task you should prepare a report by creating a classifier, and show working neural network at the laboratory.\n",
    "    The report should contain:\n",
    "        - describe of dataset: number of samples, some examples, how it was prepared, number of samples in train and validation set, are there images which contains more than one class, batch size\n",
    "        - describe of model: tested models\n",
    "        - describe of training: how testing looks like, how many epoch, how long it takes, data cleaning, learning rate finder and so on, plots of losses, and accuracy\n",
    "        - describe of result: confusion matrix, examples of correct classified image, examples of incorrect classified image\n",
    "        "
   ]
  },
  {
   "cell_type": "code",
   "execution_count": null,
   "metadata": {},
   "outputs": [],
   "source": []
  }
 ],
 "metadata": {
  "kernelspec": {
   "display_name": "Python 3",
   "language": "python",
   "name": "python3"
  },
  "language_info": {
   "codemirror_mode": {
    "name": "ipython",
    "version": 3
   },
   "file_extension": ".py",
   "mimetype": "text/x-python",
   "name": "python",
   "nbconvert_exporter": "python",
   "pygments_lexer": "ipython3",
   "version": "3.7.5"
  }
 },
 "nbformat": 4,
 "nbformat_minor": 4
}
